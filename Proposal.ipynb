{
 "cells": [
  {
   "cell_type": "markdown",
   "metadata": {},
   "source": [
    "# Proposal\n"
   ]
  },
  {
   "cell_type": "markdown",
   "metadata": {},
   "source": [
    "## 1. Introduction\n",
    "\n",
    "\n",
    "    \n",
    "\n"
   ]
  },
  {
   "cell_type": "markdown",
   "metadata": {},
   "source": [
    "\n",
    "\n",
    "- Problem  \n",
    "<div style=\"line-height: 35px; spacing:4; text-align: justify; margin-left:-15px\">Our project focuses on predicting house prices based on a series of input variables. We want to deeply understand the relationship between geographical and social factors and house prices, thereby providing useful information to home buyers and stakeholders.</div>"
   ]
  },
  {
   "cell_type": "markdown",
   "metadata": {},
   "source": [
    "- Data: \n",
    "    - The data used in the project includes the following columns:</br>\n",
    "        - Longitude: Longitude of home location.</br>\n",
    "            - Latitude: Latitude of home location. </br>\n",
    "            - Housing Median Age: Average age of housing. </br>\n",
    "            - Total Rooms: Total number of rooms in the house. </br>\n",
    "            - Total Bedrooms: Total number of bedrooms in the house. </br>\n",
    "            - Population: Population in the area. </br>\n",
    "            - Households: Number of households. </br>\n",
    "            - Median Income: Average income of households. </br>\n",
    "            - Median House Value: Average price of the house. </br>\n",
    "            - Ocean Proximity: Distance to the ocean. </br>\n",
    "    - Data collected [https://www.kaggle.com/datasets/camnugent/california-housing-prices/data?fbclid=IwAR3RmADk_8Kqn9p3jQQdBkDc3ds5gMdI3RwDAi54g3aj-TJuBCmuXyxXeOo]. </br>"
   ]
  },
  {
   "cell_type": "markdown",
   "metadata": {},
   "source": [
    "## 2. Data Analysis Plan"
   ]
  },
  {
   "cell_type": "markdown",
   "metadata": {},
   "source": [
    "### Input and Output\n",
    "- Input (Explanatory Variable, X): Longitude \n",
    "    - Latitude \n",
    "    - Housing Median Age \n",
    "    - Total Rooms \n",
    "    - Total Bedrooms \n",
    "    - Population \n",
    "    - Households \n",
    "    - Median Income \n",
    "    - Ocean Proximity.\n",
    "- Output (Response Variable, Y):\n",
    "    - Median House Value."
   ]
  },
  {
   "cell_type": "markdown",
   "metadata": {},
   "source": [
    "### Measurement and Evaluation Methods\n",
    "- We use some **measures** to evaluate the performance of the prediction model: \n",
    "    - Mean Absolute Error (MAE)\n",
    "    - Mean Squared Error (MSE)\n",
    "    - Mean Absolute Percentage Error (MAPE)\n",
    "    - R-squared (R2) \n",
    "- Prediction Method\n",
    "    - We are using machine learning models such as: \n",
    "        - Linear Regression Model\n",
    "        - Ridge Model\n",
    "        - Lasso Model\n"
   ]
  },
  {
   "cell_type": "markdown",
   "metadata": {},
   "source": [
    "### Implementation Plan and Work Assignment\n",
    "- Data Collection: Sang, Sơn\n",
    "- Data Preprocessing: Sang, Khoa\n",
    "- Exploratory Data Analysis: All members\n",
    "- Model Building: All members\n",
    "- Model Evaluation and Optimization: All members\n",
    "- Report Writing: Sơn, Khoa\n",
    "\n"
   ]
  }
 ],
 "metadata": {
  "kernelspec": {
   "display_name": "mlclass",
   "language": "python",
   "name": "python3"
  },
  "language_info": {
   "name": "python",
   "version": "3.11.4"
  }
 },
 "nbformat": 4,
 "nbformat_minor": 2
}
