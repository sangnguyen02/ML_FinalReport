{
 "cells": [
  {
   "cell_type": "markdown",
   "metadata": {},
   "source": [
    "# Milestone\n"
   ]
  },
  {
   "cell_type": "markdown",
   "metadata": {},
   "source": [
    "### 1. Task Distribution\n"
   ]
  },
  {
   "cell_type": "markdown",
   "metadata": {},
   "source": [
    "- Data Collection: Find dataset on Kaggle - **Sang, Sơn**\n",
    "- Data Preprocessing: Preprocess data for each model - **Sang, Khoa**\n",
    "- Exploratory Data Analysis:    - **All members**\n",
    "    - Explore the column ocean_proximity and show the percentage its value in ocean_proximity column\n",
    "    - Histogram: represents the data of the remain columns below\n",
    "        - longitude\n",
    "        - latitude\n",
    "        - housing_median_age\n",
    "        - total_rooms\n",
    "        - total_bedrooms\n",
    "        - population\n",
    "        - households\n",
    "        - median_income\n",
    "        - median_house_value\n",
    "- Model Building: - **All members**\n",
    "    - Linear Regression Model: - **Khoa**\n",
    "    - Ridge Model: - **Sơn**\n",
    "    - Lasso Model: - **Sang**\n"
   ]
  },
  {
   "cell_type": "markdown",
   "metadata": {},
   "source": [
    "### 2. Project Information"
   ]
  },
  {
   "cell_type": "markdown",
   "metadata": {},
   "source": [
    "- Problem: House Price Prediction\n",
    "- Objectives: \n",
    "    - Serving the real estate community, home buyers and sellers.\n",
    "    - House price forecasts not only help individuals and businesses understand real estate value but also support investment decisions and personal financial plans.\n",
    "    - At the same time, it helps us better understand the relationship between attributes and house prices.\n",
    "- Data:\n",
    "    - Input (Explanatory Variable, X): \n",
    "        - Longitude \n",
    "        - Latitude \n",
    "        - Housing Median Age \n",
    "        - Total Rooms \n",
    "        - Total Bedrooms \n",
    "        - Population \n",
    "        - Households \n",
    "        - Median Income \n",
    "        - Ocean Proximity.\n",
    "    - Output (Response Variable, Y):\n",
    "        - Median House Value.\n",
    "- Evaluation Methods\n",
    "    - We use some **measures** to evaluate the performance of the prediction model: \n",
    "        - Mean Absolute Error (MAE)\n",
    "        - Mean Squared Error (MSE)\n",
    "        - Mean Absolute Percentage Error (MAPE)\n",
    "        - R-squared (R2) "
   ]
  },
  {
   "cell_type": "markdown",
   "metadata": {},
   "source": [
    "### 3. Solution\n",
    "- Data preprocessing: Handle missing and null values\n",
    "- Split data into train and test data respectively 75% and 25%. \n",
    "- Training model: \n",
    "    - Linear Regression Model: Used to simulate the linear relationship between attributes and house prices\n",
    "    - Ridge Model: Offers stability in the presence of noise and a balance between bias and variance.\n",
    "    - Lasso Model: Simplifying interpretation and handling high-dimensional data.\n",
    "- Evaluation the result of model just trained\n",
    "\n"
   ]
  },
  {
   "cell_type": "markdown",
   "metadata": {},
   "source": [
    "### 4. Preliminary results\n",
    "- Linear Regression Model: \n",
    "    - r2_score: 0.558142\n",
    "    - \tRMSE: 5.781905e+09\n",
    "- Comment: \n",
    "    - An R2 score of 0.5581 on the test set suggests that the model explains about 55.81% of the variance in the target variable.\n",
    "    - RMSE values are quite large, indicating that the model's predictions have a considerable amount of error.\n"
   ]
  },
  {
   "cell_type": "markdown",
   "metadata": {},
   "source": [
    "### 5. Future Plan\n",
    "- Continue to train data on 2 models: \n",
    "    - Ridge Model\n",
    "    - Lasso Model"
   ]
  }
 ],
 "metadata": {
  "language_info": {
   "name": "python"
  }
 },
 "nbformat": 4,
 "nbformat_minor": 2
}
